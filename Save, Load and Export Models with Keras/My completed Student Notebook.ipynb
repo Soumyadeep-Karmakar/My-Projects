{
 "cells": [
  {
   "cell_type": "markdown",
   "metadata": {},
   "source": [
    "# Save, Load and Export Models in Keras"
   ]
  },
  {
   "cell_type": "markdown",
   "metadata": {},
   "source": [
    "## Task 1: Import Libraries"
   ]
  },
  {
   "cell_type": "code",
   "execution_count": 2,
   "metadata": {},
   "outputs": [
    {
     "name": "stdout",
     "output_type": "stream",
     "text": [
      "This notebook works with TensorFlow version: 2.0.1\n",
      "['.ipynb_checkpoints', 'models', 'model_name', 'Student Notebook.ipynb', 'tmp', 'weights']\n"
     ]
    }
   ],
   "source": [
    "import tensorflow as tf\n",
    "import numpy as np\n",
    "import os\n",
    "\n",
    "print('This notebook works with TensorFlow version:', tf.__version__)\n",
    "\n",
    "folders = ['tmp', 'models', 'model_name', 'weights']\n",
    "for folder in folders:\n",
    "    if not os.path.isdir(folder):\n",
    "        os.mkdir(folder)\n",
    "\n",
    "print(os.listdir('.'))"
   ]
  },
  {
   "cell_type": "markdown",
   "metadata": {},
   "source": [
    "## Task 2: Create Model"
   ]
  },
  {
   "cell_type": "code",
   "execution_count": 3,
   "metadata": {},
   "outputs": [
    {
     "name": "stdout",
     "output_type": "stream",
     "text": [
      "Model: \"sequential\"\n",
      "_________________________________________________________________\n",
      "Layer (type)                 Output Shape              Param #   \n",
      "=================================================================\n",
      "dense (Dense)                (None, 128)               100480    \n",
      "_________________________________________________________________\n",
      "dense_1 (Dense)              (None, 128)               16512     \n",
      "_________________________________________________________________\n",
      "dense_2 (Dense)              (None, 10)                1290      \n",
      "=================================================================\n",
      "Total params: 118,282\n",
      "Trainable params: 118,282\n",
      "Non-trainable params: 0\n",
      "_________________________________________________________________\n"
     ]
    }
   ],
   "source": [
    "def create_model():\n",
    "    model= tf.keras.models.Sequential([\n",
    "        tf.keras.layers.Dense(128, activation='relu', input_shape=(784,)),\n",
    "        tf.keras.layers.Dense(128, activation='relu'),\n",
    "        tf.keras.layers.Dense(10, activation='softmax')\n",
    "    ])\n",
    "    model.compile(loss='categorical_crossentropy', optimizer='adam',\n",
    "                 metrics=['acc'])\n",
    "    return model\n",
    "\n",
    "model= create_model()\n",
    "model.summary()"
   ]
  },
  {
   "cell_type": "markdown",
   "metadata": {},
   "source": [
    "## Task 3: Data Preprocessing"
   ]
  },
  {
   "cell_type": "code",
   "execution_count": 4,
   "metadata": {},
   "outputs": [],
   "source": [
    "(X_train, y_train), (X_test, y_test)= tf.keras.datasets.fashion_mnist.load_data()\n",
    "\n",
    "X_train= np.reshape(X_train, (X_train.shape[0], 784)) / 255.\n",
    "X_test= np.reshape(X_test, (X_test.shape[0], 784)) / 255.\n",
    "\n",
    "y_train= tf.keras.utils.to_categorical(y_train)\n",
    "y_test= tf.keras.utils.to_categorical(y_test) #one hot encoding"
   ]
  },
  {
   "cell_type": "markdown",
   "metadata": {},
   "source": [
    "## Task 4: Model Checkpoint During Training"
   ]
  },
  {
   "cell_type": "code",
   "execution_count": 5,
   "metadata": {},
   "outputs": [
    {
     "name": "stdout",
     "output_type": "stream",
     "text": [
      "Train on 60000 samples, validate on 10000 samples\n",
      "Epoch 1/2\n",
      "60000/60000 [==============================] - 3s 52us/sample - loss: 0.7009 - acc: 0.7633 - val_loss: 0.4977 - val_acc: 0.8235\n",
      "Epoch 2/2\n",
      "60000/60000 [==============================] - 3s 43us/sample - loss: 0.4317 - acc: 0.8479 - val_loss: 0.4463 - val_acc: 0.8412\n"
     ]
    }
   ],
   "source": [
    "checkpoint_dir= 'weights/'\n",
    "\n",
    "_ = model.fit(X_train, y_train, validation_data=(X_test, y_test), epochs=2, \n",
    "             batch_size=512, \n",
    "              callbacks=[tf.keras.callbacks.ModelCheckpoint(\n",
    "              os.path.join(checkpoint_dir, 'epoch_{epoch:02d}_acc_{val_acc:.4f}'),\n",
    "              monitor='val_acc', save_weights_only= True, save_best_only= True\n",
    "                                                            )\n",
    "                        ]\n",
    "             )\n",
    "#epoch_epoch np. save best only refers to val_acc. It will only save the weights when validation\n",
    "#of that particular checkpoint is better than the previous val accuracies. \n",
    "#save weights only only saves weights but not model architecture."
   ]
  },
  {
   "cell_type": "code",
   "execution_count": 6,
   "metadata": {},
   "outputs": [
    {
     "data": {
      "text/plain": [
       "['checkpoint',\n",
       " 'epoch_01_acc_0.8235.data-00000-of-00001',\n",
       " 'epoch_01_acc_0.8235.index',\n",
       " 'epoch_01_acc_0.8240.data-00000-of-00001',\n",
       " 'epoch_01_acc_0.8240.index',\n",
       " 'epoch_02_acc_0.8313.data-00000-of-00001',\n",
       " 'epoch_02_acc_0.8313.index',\n",
       " 'epoch_02_acc_0.8412.data-00000-of-00001',\n",
       " 'epoch_02_acc_0.8412.index']"
      ]
     },
     "execution_count": 6,
     "metadata": {},
     "output_type": "execute_result"
    }
   ],
   "source": [
    "os.listdir(checkpoint_dir)"
   ]
  },
  {
   "cell_type": "markdown",
   "metadata": {},
   "source": [
    "## Task 5: Load Weights"
   ]
  },
  {
   "cell_type": "code",
   "execution_count": 7,
   "metadata": {},
   "outputs": [
    {
     "name": "stdout",
     "output_type": "stream",
     "text": [
      "[2.33001743850708, 0.1949]\n"
     ]
    }
   ],
   "source": [
    "model= create_model()\n",
    "print(model.evaluate(X_test, y_test, verbose=False))#prints loss, accuracy"
   ]
  },
  {
   "cell_type": "code",
   "execution_count": 8,
   "metadata": {},
   "outputs": [
    {
     "name": "stdout",
     "output_type": "stream",
     "text": [
      "[0.4669719466686249, 0.8313]\n"
     ]
    }
   ],
   "source": [
    "model.load_weights('weights/epoch_02_acc_0.8313')\n",
    "print(model.evaluate(X_test, y_test, verbose=False))"
   ]
  },
  {
   "cell_type": "markdown",
   "metadata": {},
   "source": [
    "## Task 6: Saving Complete Model During Training"
   ]
  },
  {
   "cell_type": "code",
   "execution_count": 9,
   "metadata": {},
   "outputs": [
    {
     "name": "stdout",
     "output_type": "stream",
     "text": [
      "Train on 60000 samples, validate on 10000 samples\n",
      "Epoch 1/2\n"
     ]
    },
    {
     "name": "stderr",
     "output_type": "stream",
     "text": [
      "WARNING: Logging before flag parsing goes to stderr.\n",
      "W1125 10:10:41.593647  4060 util.py:144] Unresolved object in checkpoint: (root).optimizer.iter\n",
      "W1125 10:10:41.595641  4060 util.py:144] Unresolved object in checkpoint: (root).optimizer.beta_1\n",
      "W1125 10:10:41.597639  4060 util.py:144] Unresolved object in checkpoint: (root).optimizer.beta_2\n",
      "W1125 10:10:41.598640  4060 util.py:144] Unresolved object in checkpoint: (root).optimizer.decay\n",
      "W1125 10:10:41.599642  4060 util.py:144] Unresolved object in checkpoint: (root).optimizer.learning_rate\n",
      "W1125 10:10:41.600641  4060 util.py:152] A checkpoint was restored (e.g. tf.train.Checkpoint.restore or tf.keras.Model.load_weights) but not all checkpointed values were used. See above for specific issues. Use expect_partial() on the load status object, e.g. tf.train.Checkpoint.restore(...).expect_partial(), to silence these warnings, or use assert_consumed() to make the check explicit. See https://www.tensorflow.org/alpha/guide/checkpoints#loading_mechanics for details.\n"
     ]
    },
    {
     "name": "stdout",
     "output_type": "stream",
     "text": [
      "60000/60000 [==============================] - 3s 47us/sample - loss: 0.6971 - acc: 0.7665 - val_loss: 0.4926 - val_acc: 0.8263\n",
      "Epoch 2/2\n",
      "60000/60000 [==============================] - 2s 34us/sample - loss: 0.4350 - acc: 0.8478 - val_loss: 0.4362 - val_acc: 0.8475\n"
     ]
    }
   ],
   "source": [
    "models_dir= 'models/'\n",
    "\n",
    "model=create_model()\n",
    "\n",
    "_ = model.fit(X_train, y_train, validation_data=(X_test, y_test), epochs=2, \n",
    "             batch_size=512, \n",
    "              callbacks=[tf.keras.callbacks.ModelCheckpoint(\n",
    "              os.path.join(models_dir, 'epoch_{epoch:02d}_acc_{val_acc:.4f}.h5'),\n",
    "              monitor='val_acc', save_weights_only= False, save_best_only= False\n",
    "                                                            )\n",
    "                        ]\n",
    "             )"
   ]
  },
  {
   "cell_type": "code",
   "execution_count": 10,
   "metadata": {},
   "outputs": [
    {
     "data": {
      "text/plain": [
       "['epoch_01_acc_0.8263.h5',\n",
       " 'epoch_01_acc_0.8279.h5',\n",
       " 'epoch_02_acc_0.8420.h5',\n",
       " 'epoch_02_acc_0.8475.h5']"
      ]
     },
     "execution_count": 10,
     "metadata": {},
     "output_type": "execute_result"
    }
   ],
   "source": [
    "os.listdir(models_dir)"
   ]
  },
  {
   "cell_type": "markdown",
   "metadata": {},
   "source": [
    "## Task 7: Load Models"
   ]
  },
  {
   "cell_type": "code",
   "execution_count": 11,
   "metadata": {},
   "outputs": [
    {
     "name": "stdout",
     "output_type": "stream",
     "text": [
      "[2.3657102710723876, 0.0916]\n"
     ]
    }
   ],
   "source": [
    "model= create_model()\n",
    "print(model.evaluate(X_test, y_test, verbose=False))"
   ]
  },
  {
   "cell_type": "code",
   "execution_count": 13,
   "metadata": {},
   "outputs": [
    {
     "name": "stdout",
     "output_type": "stream",
     "text": [
      "[0.43623250589370727, 0.8475]\n",
      "Model: \"sequential_2\"\n",
      "_________________________________________________________________\n",
      "Layer (type)                 Output Shape              Param #   \n",
      "=================================================================\n",
      "dense_6 (Dense)              (None, 128)               100480    \n",
      "_________________________________________________________________\n",
      "dense_7 (Dense)              (None, 128)               16512     \n",
      "_________________________________________________________________\n",
      "dense_8 (Dense)              (None, 10)                1290      \n",
      "=================================================================\n",
      "Total params: 118,282\n",
      "Trainable params: 118,282\n",
      "Non-trainable params: 0\n",
      "_________________________________________________________________\n"
     ]
    }
   ],
   "source": [
    "model= tf.keras.models.load_model('models/epoch_02_acc_0.8475.h5')\n",
    "print(model.evaluate(X_test, y_test, verbose=False))\n",
    "model.summary()"
   ]
  },
  {
   "cell_type": "markdown",
   "metadata": {},
   "source": [
    "## Task 8: Manually Saving Weights and Models"
   ]
  },
  {
   "cell_type": "code",
   "execution_count": 14,
   "metadata": {},
   "outputs": [
    {
     "data": {
      "text/plain": [
       "['checkpoint',\n",
       " 'manually_saved.w.data-00000-of-00001',\n",
       " 'manually_saved.w.index']"
      ]
     },
     "execution_count": 14,
     "metadata": {},
     "output_type": "execute_result"
    }
   ],
   "source": [
    "model.save_weights('tmp/manually_saved.w')\n",
    "os.listdir('tmp')"
   ]
  },
  {
   "cell_type": "code",
   "execution_count": 15,
   "metadata": {},
   "outputs": [
    {
     "data": {
      "text/plain": [
       "['checkpoint',\n",
       " 'manually_saved.h5',\n",
       " 'manually_saved.w.data-00000-of-00001',\n",
       " 'manually_saved.w.index']"
      ]
     },
     "execution_count": 15,
     "metadata": {},
     "output_type": "execute_result"
    }
   ],
   "source": [
    "model.save('tmp/manually_saved.h5')#save entire model with architecture and weights\n",
    "os.listdir('tmp')"
   ]
  },
  {
   "cell_type": "markdown",
   "metadata": {},
   "source": [
    "## Task 9: Exporting and Restoring SavedModel Format"
   ]
  },
  {
   "cell_type": "code",
   "execution_count": 17,
   "metadata": {},
   "outputs": [
    {
     "data": {
      "text/plain": [
       "['assets', 'saved_model.pb', 'variables']"
      ]
     },
     "execution_count": 17,
     "metadata": {},
     "output_type": "execute_result"
    }
   ],
   "source": [
    "model.save('model_name')#exports model to given directory in saved model format\n",
    "os.listdir('model_name/')"
   ]
  },
  {
   "cell_type": "code",
   "execution_count": 18,
   "metadata": {},
   "outputs": [
    {
     "name": "stdout",
     "output_type": "stream",
     "text": [
      "[0.4362325005054474, 0.8475]\n"
     ]
    }
   ],
   "source": [
    "model= tf.keras.models.load_model('model_name') #dir name\n",
    "print(model.evaluate(X_test, y_test, verbose=False))"
   ]
  }
 ],
 "metadata": {
  "kernelspec": {
   "display_name": "Python 3",
   "language": "python",
   "name": "python3"
  },
  "language_info": {
   "codemirror_mode": {
    "name": "ipython",
    "version": 3
   },
   "file_extension": ".py",
   "mimetype": "text/x-python",
   "name": "python",
   "nbconvert_exporter": "python",
   "pygments_lexer": "ipython3",
   "version": "3.6.8"
  }
 },
 "nbformat": 4,
 "nbformat_minor": 2
}
